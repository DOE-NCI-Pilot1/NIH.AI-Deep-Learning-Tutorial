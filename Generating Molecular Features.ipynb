{
 "cells": [
  {
   "cell_type": "markdown",
   "metadata": {},
   "source": [
    "\n",
    "# NIH.AI Workshop: Molecular Features\n",
    "aclyde@anl.gov\n",
    "\n",
    "In this notebook tutorial, we will go over the process of generating vector-based features of molecules. We will require the following if you want to bring in your own data sources:\n",
    "\n",
    "1. The data is in valid .smi format, consiting of a smile string followed by a space, follwoing by the name of the molecule. \n",
    "2. The data is smaller than 10k, otherwise this will take a while and you should consider switching to a compute cluster or parallel algorithm.\n",
    "\n",
    "To begin, we rely heavily on RDKit: http://www.rdkit.org\n",
    "\n",
    "The best way to install RDKit is via Conda: https://docs.conda.io/en/latest/miniconda.html\n",
    "\n",
    "for instance:\n",
    "```bash\n",
    "conda create -n myenv python=3.6 #do this once when you want a new env\n",
    "conda activate myenv #load up the env, do this everytime you create a new shell\n",
    "conda install -c rdkit rdkit #install RDkit\n",
    "```"
   ]
  },
  {
   "cell_type": "markdown",
   "metadata": {},
   "source": [
    "# Molecular Modes\n",
    "\n",
    "We will be discussing SMILES and their related input. Please read more about SMILES:\n",
    "https://en.wikipedia.org/wiki/Simplified_molecular-input_line-entry_system\n",
    "\n",
    "In general if you stick with one peice of software, there is a standard method to cannonicalize SMILES. Each SMILES refers to a precise molecule, though each molecule has multiple  SMILES. \n",
    "\n",
    "You can also use pdb,SDF, mol2, and other formats but I will not discuss those. \n",
    "\n",
    "https://rdkit.org/docs/GettingStartedInPython.html"
   ]
  },
  {
   "cell_type": "code",
   "execution_count": 4,
   "metadata": {},
   "outputs": [],
   "source": [
    "from rdkit import Chem\n",
    "from rdkit.Chem.Draw import IPythonConsole #Needed to show molecules\n",
    "from rdkit.Chem.Draw.MolDrawing import MolDrawing, DrawingOptions #Only needed if modifying defaults"
   ]
  },
  {
   "cell_type": "code",
   "execution_count": 6,
   "metadata": {},
   "outputs": [
    {
     "data": {
      "image/png": "[encoded data removed]",
      "text/plain": [
       "<rdkit.Chem.rdchem.Mol at 0x7fe5a9688300>"
      ]
     },
     "execution_count": 6,
     "metadata": {},
     "output_type": "execute_result"
    }
   ],
   "source": [
    "paclitaxel = 'CC1=C2[C@@]([C@]([C@H]([C@@H]3[C@]4([C@H](OC4)C[C@@H]([C@]3(C(=O)[C@@H]2OC(=O)C)C)O)OC(=O)C)OC(=O)c5ccccc5)(C[C@@H]1OC(=O)[C@H](O)[C@@H](NC(=O)c6ccccc6)c7ccccc7)O)(C)C'\n",
    "Chem.MolFromSmiles(paclitaxel)"
   ]
  },
  {
   "cell_type": "code",
   "execution_count": null,
   "metadata": {},
   "outputs": [],
   "source": []
  },
  {
   "cell_type": "markdown",
   "metadata": {},
   "source": [
    "# Exploring a new chemical database"
   ]
  },
  {
   "cell_type": "code",
   "execution_count": null,
   "metadata": {},
   "outputs": [],
   "source": [
    "# Compute fingerprints"
   ]
  },
  {
   "cell_type": "markdown",
   "metadata": {},
   "source": [
    "# Preparing Features for $\\mathcal{D}$\n",
    "In the other section of this talk we discussed preparing feature representation methods. We need to create vector or other representations to use. "
   ]
  },
  {
   "cell_type": "markdown",
   "metadata": {},
   "source": [
    "## Generating Properties\n",
    "https://github.com/mordred-descriptor/mordred\n"
   ]
  },
  {
   "cell_type": "code",
   "execution_count": 7,
   "metadata": {},
   "outputs": [
    {
     "data": {
      "text/plain": [
       "[4.242640687119286, 3.9999999999999996, 0]"
      ]
     },
     "execution_count": 7,
     "metadata": {},
     "output_type": "execute_result"
    }
   ],
   "source": [
    "from rdkit import Chem\n",
    "from mordred import Calculator, descriptors\n",
    "\n",
    "# create descriptor calculator with all descriptors\n",
    "calc = Calculator(descriptors, ignore_3D=True)\n",
    "\n",
    "# calculate single molecule\n",
    "mol = Chem.MolFromSmiles('c1ccccc1')\n",
    "calc(mol)[:3]"
   ]
  },
  {
   "cell_type": "code",
   "execution_count": 8,
   "metadata": {},
   "outputs": [
    {
     "name": "stderr",
     "output_type": "stream",
     "text": [
      "100%|██████████| 3/3 [00:00<00:00, 26.40it/s]\n"
     ]
    },
    {
     "data": {
      "text/html": [
       "<div>\n",
       "<style scoped>\n",
       "    .dataframe tbody tr th:only-of-type {\n",
       "        vertical-align: middle;\n",
       "    }\n",
       "\n",
       "    .dataframe tbody tr th {\n",
       "        vertical-align: top;\n",
       "    }\n",
       "\n",
       "    .dataframe thead th {\n",
       "        text-align: right;\n",
       "    }\n",
       "</style>\n",
       "<table border=\"1\" class=\"dataframe\">\n",
       "  <thead>\n",
       "    <tr style=\"text-align: right;\">\n",
       "      <th></th>\n",
       "      <th>ABC</th>\n",
       "      <th>ABCGG</th>\n",
       "      <th>nAcid</th>\n",
       "      <th>nBase</th>\n",
       "      <th>SpAbs_A</th>\n",
       "      <th>SpMax_A</th>\n",
       "      <th>SpDiam_A</th>\n",
       "      <th>SpAD_A</th>\n",
       "      <th>SpMAD_A</th>\n",
       "      <th>LogEE_A</th>\n",
       "      <th>...</th>\n",
       "      <th>SRW10</th>\n",
       "      <th>TSRW10</th>\n",
       "      <th>MW</th>\n",
       "      <th>AMW</th>\n",
       "      <th>WPath</th>\n",
       "      <th>WPol</th>\n",
       "      <th>Zagreb1</th>\n",
       "      <th>Zagreb2</th>\n",
       "      <th>mZagreb1</th>\n",
       "      <th>mZagreb2</th>\n",
       "    </tr>\n",
       "  </thead>\n",
       "  <tbody>\n",
       "    <tr>\n",
       "      <th>0</th>\n",
       "      <td>5.059137</td>\n",
       "      <td>4.785854</td>\n",
       "      <td>0</td>\n",
       "      <td>0</td>\n",
       "      <td>8.720566</td>\n",
       "      <td>2.101003</td>\n",
       "      <td>4.202006</td>\n",
       "      <td>8.720566</td>\n",
       "      <td>1.245795</td>\n",
       "      <td>2.844305</td>\n",
       "      <td>...</td>\n",
       "      <td>8.124151</td>\n",
       "      <td>33.544698</td>\n",
       "      <td>112.007978</td>\n",
       "      <td>9.333998</td>\n",
       "      <td>42</td>\n",
       "      <td>5</td>\n",
       "      <td>30.0</td>\n",
       "      <td>31.0</td>\n",
       "      <td>2.361111</td>\n",
       "      <td>1.666667</td>\n",
       "    </tr>\n",
       "    <tr>\n",
       "      <th>1</th>\n",
       "      <td>5.059137</td>\n",
       "      <td>4.785854</td>\n",
       "      <td>0</td>\n",
       "      <td>0</td>\n",
       "      <td>8.720566</td>\n",
       "      <td>2.101003</td>\n",
       "      <td>4.202006</td>\n",
       "      <td>8.720566</td>\n",
       "      <td>1.245795</td>\n",
       "      <td>2.844305</td>\n",
       "      <td>...</td>\n",
       "      <td>8.124151</td>\n",
       "      <td>33.544698</td>\n",
       "      <td>94.041865</td>\n",
       "      <td>7.233990</td>\n",
       "      <td>42</td>\n",
       "      <td>5</td>\n",
       "      <td>30.0</td>\n",
       "      <td>31.0</td>\n",
       "      <td>2.361111</td>\n",
       "      <td>1.666667</td>\n",
       "    </tr>\n",
       "    <tr>\n",
       "      <th>2</th>\n",
       "      <td>5.059137</td>\n",
       "      <td>4.785854</td>\n",
       "      <td>0</td>\n",
       "      <td>0</td>\n",
       "      <td>8.720566</td>\n",
       "      <td>2.101003</td>\n",
       "      <td>4.202006</td>\n",
       "      <td>8.720566</td>\n",
       "      <td>1.245795</td>\n",
       "      <td>2.844305</td>\n",
       "      <td>...</td>\n",
       "      <td>8.124151</td>\n",
       "      <td>33.544698</td>\n",
       "      <td>93.057849</td>\n",
       "      <td>6.646989</td>\n",
       "      <td>42</td>\n",
       "      <td>5</td>\n",
       "      <td>30.0</td>\n",
       "      <td>31.0</td>\n",
       "      <td>2.361111</td>\n",
       "      <td>1.666667</td>\n",
       "    </tr>\n",
       "  </tbody>\n",
       "</table>\n",
       "<p>3 rows × 1613 columns</p>\n",
       "</div>"
      ],
      "text/plain": [
       "        ABC     ABCGG  nAcid  nBase   SpAbs_A   SpMax_A  SpDiam_A    SpAD_A  \\\n",
       "0  5.059137  4.785854      0      0  8.720566  2.101003  4.202006  8.720566   \n",
       "1  5.059137  4.785854      0      0  8.720566  2.101003  4.202006  8.720566   \n",
       "2  5.059137  4.785854      0      0  8.720566  2.101003  4.202006  8.720566   \n",
       "\n",
       "    SpMAD_A   LogEE_A  ...     SRW10     TSRW10          MW       AMW  WPath  \\\n",
       "0  1.245795  2.844305  ...  8.124151  33.544698  112.007978  9.333998     42   \n",
       "1  1.245795  2.844305  ...  8.124151  33.544698   94.041865  7.233990     42   \n",
       "2  1.245795  2.844305  ...  8.124151  33.544698   93.057849  6.646989     42   \n",
       "\n",
       "   WPol  Zagreb1  Zagreb2  mZagreb1  mZagreb2  \n",
       "0     5     30.0     31.0  2.361111  1.666667  \n",
       "1     5     30.0     31.0  2.361111  1.666667  \n",
       "2     5     30.0     31.0  2.361111  1.666667  \n",
       "\n",
       "[3 rows x 1613 columns]"
      ]
     },
     "execution_count": 8,
     "metadata": {},
     "output_type": "execute_result"
    }
   ],
   "source": [
    "# calculate multiple molecule\n",
    "mols = [Chem.MolFromSmiles(smi) for smi in ['c1ccccc1Cl', 'c1ccccc1O', 'c1ccccc1N']]\n",
    "\n",
    "# as pandas\n",
    "df = calc.pandas(mols)"
   ]
  }
 ],
 "metadata": {
  "kernelspec": {
   "display_name": "Python 3",
   "language": "python",
   "name": "python3"
  },
  "language_info": {
   "codemirror_mode": {
    "name": "ipython",
    "version": 3
   },
   "file_extension": ".py",
   "mimetype": "text/x-python",
   "name": "python",
   "nbconvert_exporter": "python",
   "pygments_lexer": "ipython3",
   "version": "3.7.3"
  }
 },
 "nbformat": 4,
 "nbformat_minor": 2
}
